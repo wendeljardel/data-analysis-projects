{
 "cells": [
  {
   "cell_type": "code",
   "execution_count": 106,
   "id": "a0dcc314",
   "metadata": {},
   "outputs": [],
   "source": [
    "import numpy as np\n",
    "import pandas as pd\n",
    "\n",
    "import math\n",
    "import matplotlib.pyplot as plt\n",
    "import seaborn as sns\n",
    "\n",
    "# Importing Feature Scalling libraries\n",
    "from sklearn.preprocessing import StandardScaler, normalize\n",
    "\n",
    "from sklearn.linear_model import LogisticRegression\n",
    "from sklearn.metrics import accuracy_score, classification_report, log_loss\n",
    "from sklearn.model_selection import train_test_split\n",
    "from sklearn.ensemble import RandomForestClassifier, GradientBoostingClassifier"
   ]
  },
  {
   "cell_type": "code",
   "execution_count": 2,
   "id": "7dbbee8e",
   "metadata": {},
   "outputs": [],
   "source": [
    "path = 'dados-churn.csv'"
   ]
  },
  {
   "cell_type": "code",
   "execution_count": 15,
   "id": "15b421fc",
   "metadata": {},
   "outputs": [],
   "source": [
    "df = pd.read_csv(path, index_col=[0])"
   ]
  },
  {
   "cell_type": "code",
   "execution_count": 17,
   "id": "eafd5208",
   "metadata": {},
   "outputs": [
    {
     "data": {
      "text/html": [
       "<div>\n",
       "<style scoped>\n",
       "    .dataframe tbody tr th:only-of-type {\n",
       "        vertical-align: middle;\n",
       "    }\n",
       "\n",
       "    .dataframe tbody tr th {\n",
       "        vertical-align: top;\n",
       "    }\n",
       "\n",
       "    .dataframe thead th {\n",
       "        text-align: right;\n",
       "    }\n",
       "</style>\n",
       "<table border=\"1\" class=\"dataframe\">\n",
       "  <thead>\n",
       "    <tr style=\"text-align: right;\">\n",
       "      <th></th>\n",
       "      <th>ClienteID</th>\n",
       "      <th>Nome</th>\n",
       "      <th>Score</th>\n",
       "      <th>Localizacao</th>\n",
       "      <th>Genero</th>\n",
       "      <th>Idade</th>\n",
       "      <th>TempoCliente</th>\n",
       "      <th>Saldo</th>\n",
       "      <th>Produtos</th>\n",
       "      <th>TemCartao</th>\n",
       "      <th>UsuarioAtivo</th>\n",
       "      <th>Salario</th>\n",
       "      <th>Churn</th>\n",
       "    </tr>\n",
       "    <tr>\n",
       "      <th>Id</th>\n",
       "      <th></th>\n",
       "      <th></th>\n",
       "      <th></th>\n",
       "      <th></th>\n",
       "      <th></th>\n",
       "      <th></th>\n",
       "      <th></th>\n",
       "      <th></th>\n",
       "      <th></th>\n",
       "      <th></th>\n",
       "      <th></th>\n",
       "      <th></th>\n",
       "      <th></th>\n",
       "    </tr>\n",
       "  </thead>\n",
       "  <tbody>\n",
       "    <tr>\n",
       "      <th>1</th>\n",
       "      <td>14476292</td>\n",
       "      <td>MARIA</td>\n",
       "      <td>619</td>\n",
       "      <td>Fortaleza</td>\n",
       "      <td>Feminino</td>\n",
       "      <td>42</td>\n",
       "      <td>2</td>\n",
       "      <td>0.00</td>\n",
       "      <td>1</td>\n",
       "      <td>1</td>\n",
       "      <td>1</td>\n",
       "      <td>101348.88</td>\n",
       "      <td>1</td>\n",
       "    </tr>\n",
       "    <tr>\n",
       "      <th>2</th>\n",
       "      <td>19023634</td>\n",
       "      <td>ANA</td>\n",
       "      <td>608</td>\n",
       "      <td>Natal</td>\n",
       "      <td>Feminino</td>\n",
       "      <td>41</td>\n",
       "      <td>1</td>\n",
       "      <td>83807.86</td>\n",
       "      <td>1</td>\n",
       "      <td>0</td>\n",
       "      <td>1</td>\n",
       "      <td>112542.58</td>\n",
       "      <td>0</td>\n",
       "    </tr>\n",
       "    <tr>\n",
       "      <th>3</th>\n",
       "      <td>19878769</td>\n",
       "      <td>FRANCISCA</td>\n",
       "      <td>502</td>\n",
       "      <td>Fortaleza</td>\n",
       "      <td>Feminino</td>\n",
       "      <td>42</td>\n",
       "      <td>8</td>\n",
       "      <td>159660.80</td>\n",
       "      <td>3</td>\n",
       "      <td>1</td>\n",
       "      <td>0</td>\n",
       "      <td>113931.57</td>\n",
       "      <td>1</td>\n",
       "    </tr>\n",
       "    <tr>\n",
       "      <th>4</th>\n",
       "      <td>14995009</td>\n",
       "      <td>ANTONIA</td>\n",
       "      <td>699</td>\n",
       "      <td>Fortaleza</td>\n",
       "      <td>Feminino</td>\n",
       "      <td>39</td>\n",
       "      <td>1</td>\n",
       "      <td>0.00</td>\n",
       "      <td>2</td>\n",
       "      <td>0</td>\n",
       "      <td>0</td>\n",
       "      <td>93826.63</td>\n",
       "      <td>0</td>\n",
       "    </tr>\n",
       "    <tr>\n",
       "      <th>5</th>\n",
       "      <td>14430963</td>\n",
       "      <td>ADRIANA</td>\n",
       "      <td>850</td>\n",
       "      <td>Natal</td>\n",
       "      <td>Feminino</td>\n",
       "      <td>43</td>\n",
       "      <td>2</td>\n",
       "      <td>125510.82</td>\n",
       "      <td>1</td>\n",
       "      <td>1</td>\n",
       "      <td>1</td>\n",
       "      <td>79084.10</td>\n",
       "      <td>0</td>\n",
       "    </tr>\n",
       "  </tbody>\n",
       "</table>\n",
       "</div>"
      ],
      "text/plain": [
       "    ClienteID       Nome  Score Localizacao    Genero  Idade  TempoCliente  \\\n",
       "Id                                                                           \n",
       "1    14476292      MARIA    619   Fortaleza  Feminino     42             2   \n",
       "2    19023634        ANA    608       Natal  Feminino     41             1   \n",
       "3    19878769  FRANCISCA    502   Fortaleza  Feminino     42             8   \n",
       "4    14995009    ANTONIA    699   Fortaleza  Feminino     39             1   \n",
       "5    14430963    ADRIANA    850       Natal  Feminino     43             2   \n",
       "\n",
       "        Saldo  Produtos  TemCartao  UsuarioAtivo    Salario  Churn  \n",
       "Id                                                                  \n",
       "1        0.00         1          1             1  101348.88      1  \n",
       "2    83807.86         1          0             1  112542.58      0  \n",
       "3   159660.80         3          1             0  113931.57      1  \n",
       "4        0.00         2          0             0   93826.63      0  \n",
       "5   125510.82         1          1             1   79084.10      0  "
      ]
     },
     "execution_count": 17,
     "metadata": {},
     "output_type": "execute_result"
    }
   ],
   "source": [
    "df.head()"
   ]
  },
  {
   "cell_type": "code",
   "execution_count": 18,
   "id": "10bc0ee1",
   "metadata": {},
   "outputs": [
    {
     "name": "stdout",
     "output_type": "stream",
     "text": [
      "<class 'pandas.core.frame.DataFrame'>\n",
      "Int64Index: 10000 entries, 1 to 10000\n",
      "Data columns (total 13 columns):\n",
      " #   Column        Non-Null Count  Dtype  \n",
      "---  ------        --------------  -----  \n",
      " 0   ClienteID     10000 non-null  int64  \n",
      " 1   Nome          10000 non-null  object \n",
      " 2   Score         10000 non-null  int64  \n",
      " 3   Localizacao   10000 non-null  object \n",
      " 4   Genero        10000 non-null  object \n",
      " 5   Idade         10000 non-null  int64  \n",
      " 6   TempoCliente  10000 non-null  int64  \n",
      " 7   Saldo         10000 non-null  float64\n",
      " 8   Produtos      10000 non-null  int64  \n",
      " 9   TemCartao     10000 non-null  int64  \n",
      " 10  UsuarioAtivo  10000 non-null  int64  \n",
      " 11  Salario       10000 non-null  float64\n",
      " 12  Churn         10000 non-null  int64  \n",
      "dtypes: float64(2), int64(8), object(3)\n",
      "memory usage: 1.1+ MB\n"
     ]
    }
   ],
   "source": [
    "df.info()"
   ]
  },
  {
   "cell_type": "markdown",
   "id": "21a3104b",
   "metadata": {},
   "source": [
    "O dataset não contém valores nulos"
   ]
  },
  {
   "cell_type": "code",
   "execution_count": 30,
   "id": "f0fafa23",
   "metadata": {},
   "outputs": [],
   "source": [
    "def plot_with_percent(plot):\n",
    "    for p in g.patches:\n",
    "        height = p.get_height()\n",
    "        g.text(p.get_x()+p.get_width()/2.,\n",
    "                height/2,\n",
    "                '{:1.4f}'.format(100*height/total),\n",
    "                ha=\"center\", color='white') "
   ]
  },
  {
   "cell_type": "markdown",
   "id": "10074b17",
   "metadata": {},
   "source": [
    "### Distribuição por Churn"
   ]
  },
  {
   "cell_type": "code",
   "execution_count": 31,
   "id": "a4a002f9",
   "metadata": {},
   "outputs": [
    {
     "data": {
      "image/png": "[encoded data removed]",
      "text/plain": [
       "<Figure size 1500x600 with 1 Axes>"
      ]
     },
     "metadata": {},
     "output_type": "display_data"
    }
   ],
   "source": [
    "total = len(df)\n",
    "fig, ax = plt.subplots(figsize=(15,6))\n",
    "g = sns.countplot(data=df, x='Churn')\n",
    "plot_with_percent(g)"
   ]
  },
  {
   "cell_type": "markdown",
   "id": "a661958c",
   "metadata": {},
   "source": [
    "Podemos notar que está desbalanceado. Temos aproximadamente 20% para Churn e 79% para não Churn nesse conjunto de dados. "
   ]
  },
  {
   "cell_type": "markdown",
   "id": "a2b581e1",
   "metadata": {},
   "source": [
    "### Distribuição por genêro"
   ]
  },
  {
   "cell_type": "code",
   "execution_count": 32,
   "id": "7d08a603",
   "metadata": {},
   "outputs": [
    {
     "data": {
      "image/png": "[encoded data removed]",
      "text/plain": [
       "<Figure size 640x480 with 1 Axes>"
      ]
     },
     "metadata": {},
     "output_type": "display_data"
    }
   ],
   "source": [
    "g = sns.countplot(data=df, x='Genero')\n",
    "plot_with_percent(g)"
   ]
  },
  {
   "cell_type": "markdown",
   "id": "a41ba21d",
   "metadata": {},
   "source": [
    "### Distribuição por usários ativos"
   ]
  },
  {
   "cell_type": "code",
   "execution_count": 33,
   "id": "542cb10f",
   "metadata": {},
   "outputs": [
    {
     "data": {
      "image/png": "[encoded data removed]",
      "text/plain": [
       "<Figure size 640x480 with 1 Axes>"
      ]
     },
     "metadata": {},
     "output_type": "display_data"
    }
   ],
   "source": [
    "g = sns.countplot(data=df, x='UsuarioAtivo')\n",
    "plot_with_percent(g)"
   ]
  },
  {
   "cell_type": "markdown",
   "id": "3f31aaeb",
   "metadata": {},
   "source": [
    "### Testes de hipoteses"
   ]
  },
  {
   "cell_type": "code",
   "execution_count": 72,
   "id": "962fc4ac",
   "metadata": {},
   "outputs": [],
   "source": [
    "#Proporção Z-test para 2 amostras\n",
    "def proportion(dfx,lista,z_base):\n",
    "  # Calculating information of Sample 1:\n",
    "    churn_1 = dfx[1][0]\n",
    "    n_1 = dfx.sum(axis=1)[0]\n",
    "    proportion_1 = n_1/df.shape[0]\n",
    "\n",
    "  # Calculating information of Sample 2:\n",
    "    churn_2 = dfx[1][1]\n",
    "    n_2 = dfx.sum(axis=1)[1]\n",
    "    proportion_2 = n_2/df.shape[0]\n",
    "\n",
    "  # Creating a table with stats of samples\n",
    "    df_stats = pd.DataFrame([[churn_1,n_1,proportion_1],\n",
    "                           [churn_2,n_2,proportion_2]],\n",
    "                           index = lista,\n",
    "                           columns = ['X','n','proportion'])\n",
    "    print(df_stats)\n",
    "    print('\\n')\n",
    "    p_bar = (proportion_1*n_1+proportion_2*n_2)/df.shape[0]\n",
    "    z = (proportion_1-proportion_2)/np.sqrt(p_bar*(1-p_bar)*(1/n_1+1/n_2))\n",
    "    if np.absolute(z) > z_base:\n",
    "        print('Como p-valor < alfa, H0 pode ser rejeitada!')\n",
    "    elif np.absolute(z) < z_base:\n",
    "        print(\"Como p-valor > alfa, não podemos rejeitar H0.\")\n",
    "        \n",
    "\n",
    "        \n",
    "def mean(dfx,lista):\n",
    "    # Normalizing and calculating information of Sample 1:\n",
    "    churn_1 = normalize(dfx,norm='l1')[0,1]\n",
    "    n_1 = dfx.sum(axis=1)[0]\n",
    "    sigma_1 = np.sqrt(churn_1*(1-churn_1))\n",
    "\n",
    "    # Calculating information of Sample 2:\n",
    "    churn_2 = normalize(dfx,norm='l1')[1,1]\n",
    "    n_2 = dfx.sum(axis=1)[1]\n",
    "    sigma_2 = np.sqrt(churn_2*(1-churn_2))\n",
    "\n",
    "    # Creating a table with stats of samples\n",
    "    df_stats = pd.DataFrame([[churn_1,n_1,sigma_1],\n",
    "                            [churn_2,n_2,sigma_2]],\n",
    "                            index = lista,\n",
    "                            columns = ['X_bar','n','sigma'])\n",
    "    print(df_stats)\n",
    "    print('\\n')\n",
    "    z = (churn_1-churn_2)/np.sqrt(((sigma_1**2)/n_1)+((sigma_2**2)/n_2))\n",
    "    print('O z-score encontrado é {};'.format(z))"
   ]
  },
  {
   "cell_type": "markdown",
   "id": "d5354152",
   "metadata": {},
   "source": [
    "### H1: A ocorrência de Churn não é igual em homens e mulheres (Churn depende do gênero)  \n",
    "Pmen = probalidade do usuário que realizou churn ser homem  \n",
    "Pwomen = probalidade do usuário que realizou churn ser mulher"
   ]
  },
  {
   "cell_type": "markdown",
   "id": "fc58428e",
   "metadata": {},
   "source": [
    "H0: Pmen = Pwomen  \n",
    "H1: Pmen != Pwomen"
   ]
  },
  {
   "cell_type": "markdown",
   "id": "8d8ab1b3",
   "metadata": {},
   "source": [
    "Assumindo que H0 seja verdade"
   ]
  },
  {
   "cell_type": "code",
   "execution_count": 36,
   "id": "5b5854ab",
   "metadata": {},
   "outputs": [
    {
     "data": {
      "image/png": "[encoded data removed]",
      "text/plain": [
       "<Figure size 1500x400 with 1 Axes>"
      ]
     },
     "metadata": {},
     "output_type": "display_data"
    }
   ],
   "source": [
    "plt.figure(figsize=(15,4))\n",
    "sns.countplot(data=df,y='Genero',hue='Churn').set_title('Compartivo entre a ocorrência de Churn e Gênero')\n",
    "plt.show()"
   ]
  },
  {
   "cell_type": "code",
   "execution_count": 37,
   "id": "3a35c871",
   "metadata": {},
   "outputs": [
    {
     "data": {
      "text/html": [
       "<div>\n",
       "<style scoped>\n",
       "    .dataframe tbody tr th:only-of-type {\n",
       "        vertical-align: middle;\n",
       "    }\n",
       "\n",
       "    .dataframe tbody tr th {\n",
       "        vertical-align: top;\n",
       "    }\n",
       "\n",
       "    .dataframe thead th {\n",
       "        text-align: right;\n",
       "    }\n",
       "</style>\n",
       "<table border=\"1\" class=\"dataframe\">\n",
       "  <thead>\n",
       "    <tr style=\"text-align: right;\">\n",
       "      <th></th>\n",
       "      <th>0</th>\n",
       "      <th>1</th>\n",
       "    </tr>\n",
       "    <tr>\n",
       "      <th></th>\n",
       "      <th></th>\n",
       "      <th></th>\n",
       "    </tr>\n",
       "  </thead>\n",
       "  <tbody>\n",
       "    <tr>\n",
       "      <th>Feminino</th>\n",
       "      <td>3404</td>\n",
       "      <td>1139</td>\n",
       "    </tr>\n",
       "    <tr>\n",
       "      <th>Masculino</th>\n",
       "      <td>4559</td>\n",
       "      <td>898</td>\n",
       "    </tr>\n",
       "  </tbody>\n",
       "</table>\n",
       "</div>"
      ],
      "text/plain": [
       "              0     1\n",
       "                     \n",
       "Feminino   3404  1139\n",
       "Masculino  4559   898"
      ]
     },
     "execution_count": 37,
     "metadata": {},
     "output_type": "execute_result"
    }
   ],
   "source": [
    "df_h1 = pd.crosstab(df['Genero'],df['Churn'])\n",
    "df_h1.index.name,df_h1.columns.name = (' ',' ')\n",
    "df_h1"
   ]
  },
  {
   "cell_type": "code",
   "execution_count": 79,
   "id": "a157b977",
   "metadata": {},
   "outputs": [
    {
     "name": "stdout",
     "output_type": "stream",
     "text": [
      "              X     n  proportion\n",
      "Feminino   1139  4543      0.4543\n",
      "Masculino   898  5457      0.5457\n",
      "\n",
      "\n",
      "Como p-valor > alfa, não podemos rejeitar H0.\n"
     ]
    }
   ],
   "source": [
    "#alpha = 0.05 z = 10.56\n",
    "proportion(df_h1,['Feminino','Masculino'],10.56)"
   ]
  },
  {
   "cell_type": "markdown",
   "id": "ac6c5203",
   "metadata": {},
   "source": [
    "### H1 é falsa"
   ]
  },
  {
   "cell_type": "markdown",
   "id": "f59682dd",
   "metadata": {},
   "source": [
    "### H2: Ocorrência de Churn é maior nos clientes com menor tempo\n",
    "\n",
    "Ptm: probabilidade do cliente realizar turn com menor tempo  \n",
    "PtM: probabilidade do cliente realizar turn com maior tempo  \n",
    "H0: Ptm <= PtM   \n",
    "H2: Ptm > PtM  \n",
    "\n",
    "Assumindo que H0 seja verdade"
   ]
  },
  {
   "cell_type": "code",
   "execution_count": 62,
   "id": "55a4b024",
   "metadata": {},
   "outputs": [
    {
     "data": {
      "image/png": "[encoded data removed]",
      "text/plain": [
       "<Figure size 1700x350 with 2 Axes>"
      ]
     },
     "metadata": {},
     "output_type": "display_data"
    }
   ],
   "source": [
    "fig, axes = plt.subplots(1,2,figsize=(17,3.5))\n",
    "\n",
    "sns.countplot(data=df[df['TempoCliente']<=4],y='Churn',ax=axes[0]).set_title('Quantidade de Churn de clientes com menos tempo')\n",
    "\n",
    "sns.countplot(data=df[df['TempoCliente']>5],y='Churn',ax=axes[1]).set_title('Quantidade de Churn de clientes com mais tempo')\n",
    "plt.show()"
   ]
  },
  {
   "cell_type": "code",
   "execution_count": 63,
   "id": "b9f0f4df",
   "metadata": {},
   "outputs": [
    {
     "data": {
      "text/html": [
       "<div>\n",
       "<style scoped>\n",
       "    .dataframe tbody tr th:only-of-type {\n",
       "        vertical-align: middle;\n",
       "    }\n",
       "\n",
       "    .dataframe tbody tr th {\n",
       "        vertical-align: top;\n",
       "    }\n",
       "\n",
       "    .dataframe thead th {\n",
       "        text-align: right;\n",
       "    }\n",
       "</style>\n",
       "<table border=\"1\" class=\"dataframe\">\n",
       "  <thead>\n",
       "    <tr style=\"text-align: right;\">\n",
       "      <th></th>\n",
       "      <th>0</th>\n",
       "      <th>1</th>\n",
       "    </tr>\n",
       "  </thead>\n",
       "  <tbody>\n",
       "    <tr>\n",
       "      <th>Menos Tempo</th>\n",
       "      <td>3550</td>\n",
       "      <td>944</td>\n",
       "    </tr>\n",
       "    <tr>\n",
       "      <th>Mais tempo</th>\n",
       "      <td>3610</td>\n",
       "      <td>884</td>\n",
       "    </tr>\n",
       "  </tbody>\n",
       "</table>\n",
       "</div>"
      ],
      "text/plain": [
       "                0    1\n",
       "Menos Tempo  3550  944\n",
       "Mais tempo   3610  884"
      ]
     },
     "execution_count": 63,
     "metadata": {},
     "output_type": "execute_result"
    }
   ],
   "source": [
    "df_h2 = pd.DataFrame([pd.crosstab(df[df['TempoCliente']<=4]['TempoCliente'],df[df['TempoCliente']<=4]['Churn']).sum(),\n",
    "                      pd.crosstab(df[df['TempoCliente']>5]['TempoCliente'],df[df['TempoCliente']>5]['Churn']).sum()],\n",
    "                      index = ['Menos Tempo','Mais tempo'])\n",
    "df_h2.columns.name = ' '\n",
    "df_h2"
   ]
  },
  {
   "cell_type": "code",
   "execution_count": 77,
   "id": "c53b46f7",
   "metadata": {},
   "outputs": [
    {
     "name": "stdout",
     "output_type": "stream",
     "text": [
      "               X     n  proportion\n",
      "Menos Tempo  944  4494      0.4494\n",
      "Mais tempo   884  4494      0.4494\n",
      "\n",
      "\n",
      "Como p-valor > alfa, não podemos rejeitar H0.\n"
     ]
    }
   ],
   "source": [
    "# alpha = 0.05 z = 1.57\n",
    "proportion(df_h2,['Menos Tempo','Mais tempo'],1.57)"
   ]
  },
  {
   "cell_type": "markdown",
   "id": "11afe7c6",
   "metadata": {},
   "source": [
    "### H2 é falsa"
   ]
  },
  {
   "cell_type": "markdown",
   "id": "cbcc45ec",
   "metadata": {},
   "source": [
    "### H3: Ocorrências de Churn são maiores em clientes com mais de 40 anos   \n",
    "\n",
    "P40: probabilidade do cliente realizar churn tendo idade menor que 40 anos  \n",
    "P40+: probabilidade do cliente realizar churn tendo idade menor que 40 anos  \n",
    "H0: P 40+ < = P40  \n",
    "H3: P40+ > P40"
   ]
  },
  {
   "cell_type": "code",
   "execution_count": 84,
   "id": "4896c9e1",
   "metadata": {},
   "outputs": [
    {
     "data": {
      "image/png": "[encoded data removed]",
      "text/plain": [
       "<Figure size 1700x350 with 2 Axes>"
      ]
     },
     "metadata": {},
     "output_type": "display_data"
    }
   ],
   "source": [
    "fig, axes = plt.subplots(1,2,figsize=(17,3.5))\n",
    "\n",
    "sns.countplot(data=df[df['Idade']<=39],y='Churn',ax=axes[0]).set_title('Quantidade de Churn de clientes com idade inferior a 40')\n",
    "\n",
    "sns.countplot(data=df[df['Idade']>40],y='Churn',ax=axes[1]).set_title('Quantidade de Churn de clientes com idade superior a 40')\n",
    "plt.show()"
   ]
  },
  {
   "cell_type": "code",
   "execution_count": 85,
   "id": "d4ce306d",
   "metadata": {},
   "outputs": [
    {
     "data": {
      "text/html": [
       "<div>\n",
       "<style scoped>\n",
       "    .dataframe tbody tr th:only-of-type {\n",
       "        vertical-align: middle;\n",
       "    }\n",
       "\n",
       "    .dataframe tbody tr th {\n",
       "        vertical-align: top;\n",
       "    }\n",
       "\n",
       "    .dataframe thead th {\n",
       "        text-align: right;\n",
       "    }\n",
       "</style>\n",
       "<table border=\"1\" class=\"dataframe\">\n",
       "  <thead>\n",
       "    <tr style=\"text-align: right;\">\n",
       "      <th></th>\n",
       "      <th>0</th>\n",
       "      <th>1</th>\n",
       "    </tr>\n",
       "  </thead>\n",
       "  <tbody>\n",
       "    <tr>\n",
       "      <th>Menos de 40</th>\n",
       "      <td>5390</td>\n",
       "      <td>597</td>\n",
       "    </tr>\n",
       "    <tr>\n",
       "      <th>Mais de 40</th>\n",
       "      <td>2230</td>\n",
       "      <td>1351</td>\n",
       "    </tr>\n",
       "  </tbody>\n",
       "</table>\n",
       "</div>"
      ],
      "text/plain": [
       "                0     1\n",
       "Menos de 40  5390   597\n",
       "Mais de 40   2230  1351"
      ]
     },
     "execution_count": 85,
     "metadata": {},
     "output_type": "execute_result"
    }
   ],
   "source": [
    "df_h3 = pd.DataFrame([pd.crosstab(df[df['Idade']<=39]['Idade'],df[df['Idade']<=39]['Churn']).sum(),\n",
    "                      pd.crosstab(df[df['Idade']>40]['Idade'],df[df['Idade']>40]['Churn']).sum()],\n",
    "                      index = ['Menos de 40','Mais de 40'])\n",
    "df_h3.columns.name = ' '\n",
    "df_h3"
   ]
  },
  {
   "cell_type": "code",
   "execution_count": 88,
   "id": "39eac7e7",
   "metadata": {},
   "outputs": [
    {
     "name": "stdout",
     "output_type": "stream",
     "text": [
      "             X     n  proportion\n",
      "Menos 40   597  5987      0.5987\n",
      "Mais 40   1351  3581      0.3581\n",
      "\n",
      "\n",
      "Como p-valor < alfa, H0 pode ser rejeitada!\n"
     ]
    }
   ],
   "source": [
    "# alpha = 0.05 z = -30.91\n",
    "proportion(df_h3,['Menos 40','Mais 40'],-30.91)"
   ]
  },
  {
   "cell_type": "markdown",
   "id": "abc744de",
   "metadata": {},
   "source": [
    "### H3 é verdadeira"
   ]
  },
  {
   "cell_type": "markdown",
   "id": "8c0206a8",
   "metadata": {},
   "source": [
    "### H4: Ocorrências de Churn é maior em clientes com mais de 2 produtos  \n",
    "P2: probabilidade do cliente realizar churn tendo até 2 produtos   \n",
    "P2+: probabilidade do cliente realizar churn tendo mais de 2 produtos  \n",
    "H0: P2+ <= P2  \n",
    "H4: P2+ > P2"
   ]
  },
  {
   "cell_type": "code",
   "execution_count": 92,
   "id": "643f33c6",
   "metadata": {},
   "outputs": [
    {
     "data": {
      "image/png": "[encoded data removed]",
      "text/plain": [
       "<Figure size 1700x350 with 2 Axes>"
      ]
     },
     "metadata": {},
     "output_type": "display_data"
    }
   ],
   "source": [
    "fig, axes = plt.subplots(1,2,figsize=(17,3.5))\n",
    "\n",
    "sns.countplot(data=df[df['Produtos']<=2],y='Churn',ax=axes[0]).set_title('Quantidade de Churn em clientes com até 2 produtos')\n",
    "\n",
    "sns.countplot(data=df[df['Produtos']>2],y='Churn',ax=axes[1]).set_title('Quantidade de Churn em clientes com mais de 2 produtos')\n",
    "plt.show()"
   ]
  },
  {
   "cell_type": "code",
   "execution_count": 95,
   "id": "a19baaeb",
   "metadata": {},
   "outputs": [
    {
     "data": {
      "text/html": [
       "<div>\n",
       "<style scoped>\n",
       "    .dataframe tbody tr th:only-of-type {\n",
       "        vertical-align: middle;\n",
       "    }\n",
       "\n",
       "    .dataframe tbody tr th {\n",
       "        vertical-align: top;\n",
       "    }\n",
       "\n",
       "    .dataframe thead th {\n",
       "        text-align: right;\n",
       "    }\n",
       "</style>\n",
       "<table border=\"1\" class=\"dataframe\">\n",
       "  <thead>\n",
       "    <tr style=\"text-align: right;\">\n",
       "      <th></th>\n",
       "      <th>0</th>\n",
       "      <th>1</th>\n",
       "    </tr>\n",
       "  </thead>\n",
       "  <tbody>\n",
       "    <tr>\n",
       "      <th>Menos de 2</th>\n",
       "      <td>5359</td>\n",
       "      <td>517</td>\n",
       "    </tr>\n",
       "    <tr>\n",
       "      <th>Mais de 2</th>\n",
       "      <td>12</td>\n",
       "      <td>190</td>\n",
       "    </tr>\n",
       "  </tbody>\n",
       "</table>\n",
       "</div>"
      ],
      "text/plain": [
       "               0    1\n",
       "Menos de 2  5359  517\n",
       "Mais de 2     12  190"
      ]
     },
     "execution_count": 95,
     "metadata": {},
     "output_type": "execute_result"
    }
   ],
   "source": [
    "df_h4 = pd.DataFrame([pd.crosstab(df[df['Produtos']<=2]['Produtos'],df[df['Idade']<=39]['Churn']).sum(),\n",
    "                      pd.crosstab(df[df['Produtos']>2]['Produtos'],df[df['Idade']>40]['Churn']).sum()],\n",
    "                      index = ['Menos de 2','Mais de 2'])\n",
    "df_h4.columns.name = ' '\n",
    "df_h4"
   ]
  },
  {
   "cell_type": "code",
   "execution_count": 98,
   "id": "86796f13",
   "metadata": {},
   "outputs": [
    {
     "name": "stdout",
     "output_type": "stream",
     "text": [
      "            X     n  proportion\n",
      "Menos 40  517  5876      0.5876\n",
      "Mais 40   190   202      0.0202\n",
      "\n",
      "\n",
      "Como p-valor < alfa, H0 pode ser rejeitada!\n"
     ]
    }
   ],
   "source": [
    "# alpha = 0.05 z = -50.04\n",
    "# mean(df_h4,['Menos de 2','Mais de 2'])\n",
    "proportion(df_h4,['Menos 40','Mais 40'],-50.04)"
   ]
  },
  {
   "cell_type": "markdown",
   "id": "b3b62301",
   "metadata": {},
   "source": [
    "### H4 é verdadeira"
   ]
  },
  {
   "cell_type": "markdown",
   "id": "1078086f",
   "metadata": {},
   "source": [
    "### Previsão"
   ]
  },
  {
   "cell_type": "code",
   "execution_count": 102,
   "id": "dd5c637b",
   "metadata": {},
   "outputs": [],
   "source": [
    "data = df[['Idade','TempoCliente', 'Saldo', 'Produtos', 'TemCartao', 'UsuarioAtivo','Salario']]\n",
    "label = df['Churn']"
   ]
  },
  {
   "cell_type": "code",
   "execution_count": 104,
   "id": "93c598a3",
   "metadata": {},
   "outputs": [],
   "source": [
    "## Correlação\n",
    "\n",
    "# fig, ax = plt.subplots(figsize=(6, 6))\n",
    "# sns.heatmap(data.corr(), vmin=0, ax=ax)"
   ]
  },
  {
   "cell_type": "code",
   "execution_count": 107,
   "id": "b3ca96cf",
   "metadata": {},
   "outputs": [],
   "source": [
    "x_train, x_valid, y_train, y_valid = train_test_split(data, label, test_size=0.3)"
   ]
  },
  {
   "cell_type": "code",
   "execution_count": 108,
   "id": "7b030674",
   "metadata": {},
   "outputs": [
    {
     "data": {
      "text/plain": [
       "GradientBoostingClassifier()"
      ]
     },
     "execution_count": 108,
     "metadata": {},
     "output_type": "execute_result"
    }
   ],
   "source": [
    "modelLR = LogisticRegression()\n",
    "modelLR.fit(x_train, y_train)\n",
    "\n",
    "modelRF = RandomForestClassifier()\n",
    "modelRF.fit(x_train, y_train)\n",
    "\n",
    "modelGB = GradientBoostingClassifier()\n",
    "modelGB.fit(x_train, y_train)"
   ]
  },
  {
   "cell_type": "code",
   "execution_count": 109,
   "id": "174a830c",
   "metadata": {},
   "outputs": [
    {
     "name": "stdout",
     "output_type": "stream",
     "text": [
      "Logistic Regression: \n",
      "               precision    recall  f1-score   support\n",
      "\n",
      "           0       1.00      0.80      0.89      3000\n",
      "           1       0.00      0.00      0.00         0\n",
      "\n",
      "    accuracy                           0.80      3000\n",
      "   macro avg       0.50      0.40      0.45      3000\n",
      "weighted avg       1.00      0.80      0.89      3000\n",
      "\n",
      "Logistic Regression Accuracy:  0.8023333333333333\n",
      "Random Forest Classifier : \n",
      "               precision    recall  f1-score   support\n",
      "\n",
      "           0       0.95      0.87      0.91      2612\n",
      "           1       0.45      0.69      0.54       388\n",
      "\n",
      "    accuracy                           0.85      3000\n",
      "   macro avg       0.70      0.78      0.73      3000\n",
      "weighted avg       0.88      0.85      0.86      3000\n",
      "\n",
      "Random Forest Classifier Accuracy:  0.8503333333333334\n",
      "Gradient Boost Classifier : \n",
      "               precision    recall  f1-score   support\n",
      "\n",
      "           0       0.97      0.88      0.92      2662\n",
      "           1       0.44      0.77      0.56       338\n",
      "\n",
      "    accuracy                           0.86      3000\n",
      "   macro avg       0.70      0.82      0.74      3000\n",
      "weighted avg       0.91      0.86      0.88      3000\n",
      "\n",
      "Gradient Boost Classifier Accuracy:  0.8636666666666667\n"
     ]
    },
    {
     "name": "stderr",
     "output_type": "stream",
     "text": [
      "/Users/wendel/anaconda3/lib/python3.7/site-packages/sklearn/metrics/_classification.py:1318: UndefinedMetricWarning: Recall and F-score are ill-defined and being set to 0.0 in labels with no true samples. Use `zero_division` parameter to control this behavior.\n",
      "  _warn_prf(average, modifier, msg_start, len(result))\n",
      "/Users/wendel/anaconda3/lib/python3.7/site-packages/sklearn/metrics/_classification.py:1318: UndefinedMetricWarning: Recall and F-score are ill-defined and being set to 0.0 in labels with no true samples. Use `zero_division` parameter to control this behavior.\n",
      "  _warn_prf(average, modifier, msg_start, len(result))\n",
      "/Users/wendel/anaconda3/lib/python3.7/site-packages/sklearn/metrics/_classification.py:1318: UndefinedMetricWarning: Recall and F-score are ill-defined and being set to 0.0 in labels with no true samples. Use `zero_division` parameter to control this behavior.\n",
      "  _warn_prf(average, modifier, msg_start, len(result))\n"
     ]
    }
   ],
   "source": [
    "predictLR = modelLR.predict(x_valid)\n",
    "print('Logistic Regression: \\n', classification_report(predictLR, y_valid))\n",
    "print('Logistic Regression Accuracy: ', accuracy_score(predictLR, y_valid))\n",
    "\n",
    "predictRF = modelRF.predict(x_valid)\n",
    "print('Random Forest Classifier : \\n', classification_report(predictRF, y_valid))\n",
    "print('Random Forest Classifier Accuracy: ', accuracy_score(predictRF, y_valid))\n",
    "\n",
    "predictGB = modelGB.predict(x_valid)\n",
    "print('Gradient Boost Classifier : \\n', classification_report(predictGB, y_valid))\n",
    "print('Gradient Boost Classifier Accuracy: ', accuracy_score(predictGB, y_valid))"
   ]
  },
  {
   "cell_type": "markdown",
   "id": "88c7b3a3",
   "metadata": {},
   "source": [
    "Nesse caso a Accuracy não é uma métrica muito boa para avaliar nossos modelos, pois ela mede a exatidão geral do modelo, e, como o conjunto de dados está desbalanceado, acarreta em um aumento que não reflete no nosso resultado positivo. Portanto, é bom escolhermos outras métricas que estão disponíveis, como Precision e Recall.\n",
    "\n",
    "Precision é a porcentagem de predições corretas para o rótulo dentre o total que foi previsto com esse rótulo, ou seja, quão bem o modelo prevê o rótulo. E o Recall é a porcentagem de predições corretas para o rótulo dentre o total de entradas que realmente possuem esse rótulo, ou seja, quão bem o modelo prevê o rótulo dado que este é o rótulo correto.\n",
    "\n",
    "Podemos notar que os modelos obtiveram resultados parecidos nesse caso principalmente para a previsão de não churn, porém, caso o conjunto de dados seja muito grande o Gradient Boost se mostra melhor em performance."
   ]
  }
 ],
 "metadata": {
  "kernelspec": {
   "display_name": "Python 3 (ipykernel)",
   "language": "python",
   "name": "python3"
  },
  "language_info": {
   "codemirror_mode": {
    "name": "ipython",
    "version": 3
   },
   "file_extension": ".py",
   "mimetype": "text/x-python",
   "name": "python",
   "nbconvert_exporter": "python",
   "pygments_lexer": "ipython3",
   "version": "3.7.15"
  }
 },
 "nbformat": 4,
 "nbformat_minor": 5
}
